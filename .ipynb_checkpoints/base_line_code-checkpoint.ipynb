{
 "cells": [
  {
   "cell_type": "code",
   "execution_count": 1,
   "metadata": {
    "collapsed": true
   },
   "outputs": [],
   "source": [
    "import pandas as pd\n",
    "import warnings\n",
    "warnings.filterwarnings('ignore')\n",
    "\n",
    "# Train 데이터를 불러옵니다.\n",
    "train = pd.read_csv('train.csv')\n",
    "# Test 데이터를 불러옵니다.\n",
    "test = pd.read_csv('test.csv')"
   ]
  },
  {
   "cell_type": "code",
   "execution_count": 2,
   "metadata": {
    "collapsed": true
   },
   "outputs": [],
   "source": [
    "#독립변수와 종속변수를 분리합니다.\n",
    "train_X = train.iloc[:,4:]  #Train 데이터의 독립변수\n",
    "train_Y = train.iloc[:,0:4] #Train 데이터의 종속변수\n",
    "test_X = test.iloc[:,1:]    #Test  데이터의 독립변수"
   ]
  },
  {
   "cell_type": "code",
   "execution_count": 3,
   "metadata": {},
   "outputs": [
    {
     "name": "stderr",
     "output_type": "stream",
     "text": [
      "Using TensorFlow backend.\n"
     ]
    }
   ],
   "source": [
    "#케라스를 통해 모델 생성을 시작합니다.\n",
    "import keras\n",
    "from keras.models import Sequential\n",
    "from keras.layers import Dense\n",
    "model = Sequential()\n",
    "model.add(Dense(units=160, activation='relu', input_dim=226))\n",
    "model.add(Dense(units=160, activation='relu'))\n",
    "model.add(Dense(units=160, activation='relu'))\n",
    "model.add(Dense(units=4, activation='linear'))"
   ]
  },
  {
   "cell_type": "code",
   "execution_count": 4,
   "metadata": {
    "collapsed": true
   },
   "outputs": [],
   "source": [
    "#모델을 컴파일합니다.\n",
    "model.compile(loss='mae', optimizer='adam', metrics=['mae'])"
   ]
  },
  {
   "cell_type": "code",
   "execution_count": 5,
   "metadata": {},
   "outputs": [
    {
     "name": "stdout",
     "output_type": "stream",
     "text": [
      "Train on 769500 samples, validate on 40500 samples\n",
      "Epoch 1/20\n",
      "769500/769500 [==============================] - 19s 25us/step - loss: 95.1191 - mean_absolute_error: 95.1191 - val_loss: 94.5748 - val_mean_absolute_error: 94.5748\n",
      "Epoch 2/20\n",
      "769500/769500 [==============================] - 18s 24us/step - loss: 74.6286 - mean_absolute_error: 74.6286 - val_loss: 93.7961 - val_mean_absolute_error: 93.7961\n",
      "Epoch 3/20\n",
      "769500/769500 [==============================] - 19s 25us/step - loss: 73.7423 - mean_absolute_error: 73.7423 - val_loss: 93.1929 - val_mean_absolute_error: 93.1929\n",
      "Epoch 4/20\n",
      "769500/769500 [==============================] - 27s 35us/step - loss: 72.7457 - mean_absolute_error: 72.7457 - val_loss: 91.9095 - val_mean_absolute_error: 91.9095\n",
      "Epoch 5/20\n",
      "769500/769500 [==============================] - 42s 55us/step - loss: 70.6781 - mean_absolute_error: 70.6781 - val_loss: 90.5523 - val_mean_absolute_error: 90.5523\n",
      "Epoch 6/20\n",
      "769500/769500 [==============================] - 34s 45us/step - loss: 67.1182 - mean_absolute_error: 67.1182 - val_loss: 88.3482 - val_mean_absolute_error: 88.3482\n",
      "Epoch 7/20\n",
      "769500/769500 [==============================] - 24s 32us/step - loss: 64.1978 - mean_absolute_error: 64.1978 - val_loss: 86.8562 - val_mean_absolute_error: 86.8562\n",
      "Epoch 8/20\n",
      "769500/769500 [==============================] - 27s 36us/step - loss: 62.3282 - mean_absolute_error: 62.3282 - val_loss: 83.2646 - val_mean_absolute_error: 83.2646\n",
      "Epoch 9/20\n",
      "769500/769500 [==============================] - 21s 28us/step - loss: 60.6288 - mean_absolute_error: 60.6288 - val_loss: 79.5661 - val_mean_absolute_error: 79.5661\n",
      "Epoch 10/20\n",
      "769500/769500 [==============================] - 26s 34us/step - loss: 59.1872 - mean_absolute_error: 59.1872 - val_loss: 78.1019 - val_mean_absolute_error: 78.1019\n",
      "Epoch 11/20\n",
      "769500/769500 [==============================] - 44s 57us/step - loss: 57.9943 - mean_absolute_error: 57.9943 - val_loss: 76.5981 - val_mean_absolute_error: 76.5981\n",
      "Epoch 12/20\n",
      "769500/769500 [==============================] - 32s 42us/step - loss: 57.1754 - mean_absolute_error: 57.1754 - val_loss: 75.1339 - val_mean_absolute_error: 75.1339\n",
      "Epoch 13/20\n",
      "769500/769500 [==============================] - 27s 35us/step - loss: 56.5220 - mean_absolute_error: 56.5220 - val_loss: 75.5464 - val_mean_absolute_error: 75.5464\n",
      "Epoch 14/20\n",
      "769500/769500 [==============================] - 24s 31us/step - loss: 55.9019 - mean_absolute_error: 55.9019 - val_loss: 74.0459 - val_mean_absolute_error: 74.0459\n",
      "Epoch 15/20\n",
      "769500/769500 [==============================] - 24s 31us/step - loss: 55.2667 - mean_absolute_error: 55.2667 - val_loss: 74.5389 - val_mean_absolute_error: 74.5389\n",
      "Epoch 16/20\n",
      "769500/769500 [==============================] - 33s 43us/step - loss: 54.6539 - mean_absolute_error: 54.6539 - val_loss: 73.0505 - val_mean_absolute_error: 73.0505\n",
      "Epoch 17/20\n",
      "769500/769500 [==============================] - 37s 48us/step - loss: 54.0365 - mean_absolute_error: 54.0365 - val_loss: 72.8087 - val_mean_absolute_error: 72.8087\n",
      "Epoch 18/20\n",
      "769500/769500 [==============================] - 26s 34us/step - loss: 53.4479 - mean_absolute_error: 53.4479 - val_loss: 71.5863 - val_mean_absolute_error: 71.5863\n",
      "Epoch 19/20\n",
      "769500/769500 [==============================] - 18s 23us/step - loss: 52.8419 - mean_absolute_error: 52.8419 - val_loss: 70.8994 - val_mean_absolute_error: 70.8994\n",
      "Epoch 20/20\n",
      "769500/769500 [==============================] - 21s 27us/step - loss: 52.2514 - mean_absolute_error: 52.2514 - val_loss: 70.4039 - val_mean_absolute_error: 70.4039\n"
     ]
    },
    {
     "data": {
      "text/plain": [
       "<keras.callbacks.History at 0x24e02f31e80>"
      ]
     },
     "execution_count": 5,
     "metadata": {},
     "output_type": "execute_result"
    }
   ],
   "source": [
    "#모델을 학습합니다.\n",
    "model.fit(train_X, train_Y, epochs=20, batch_size=10000, validation_split = 0.05)"
   ]
  },
  {
   "cell_type": "code",
   "execution_count": 6,
   "metadata": {
    "collapsed": true
   },
   "outputs": [],
   "source": [
    "#예측값을 생성합니다.\n",
    "pred_test = model.predict(test_X)"
   ]
  },
  {
   "cell_type": "code",
   "execution_count": 7,
   "metadata": {
    "collapsed": true
   },
   "outputs": [],
   "source": [
    "#submission 파일을 생성합니다.\n",
    "sample_sub = pd.read_csv('sample_submission.csv', index_col=0)\n",
    "submission = sample_sub+pred_test\n",
    "submission.to_csv('submission.csv')"
   ]
  }
 ],
 "metadata": {
  "kernelspec": {
   "display_name": "Python 3",
   "language": "python",
   "name": "python3"
  },
  "language_info": {
   "codemirror_mode": {
    "name": "ipython",
    "version": 3
   },
   "file_extension": ".py",
   "mimetype": "text/x-python",
   "name": "python",
   "nbconvert_exporter": "python",
   "pygments_lexer": "ipython3",
   "version": "3.6.8"
  }
 },
 "nbformat": 4,
 "nbformat_minor": 2
}
